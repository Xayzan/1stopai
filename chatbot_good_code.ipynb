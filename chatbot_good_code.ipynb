{
  "nbformat": 4,
  "nbformat_minor": 0,
  "metadata": {
    "colab": {
      "provenance": [],
      "mount_file_id": "1pt0U_GcJLud4yyetAgHJdiqGcbiwAJDr",
      "authorship_tag": "ABX9TyPkJK81gFjEd2lcdWRNRsb9",
      "include_colab_link": true
    },
    "kernelspec": {
      "name": "python3",
      "display_name": "Python 3"
    },
    "language_info": {
      "name": "python"
    }
  },
  "cells": [
    {
      "cell_type": "markdown",
      "metadata": {
        "id": "view-in-github",
        "colab_type": "text"
      },
      "source": [
        "<a href=\"https://colab.research.google.com/github/Xayzan/1stopai/blob/main/chatbot_good_code.ipynb\" target=\"_parent\"><img src=\"https://colab.research.google.com/assets/colab-badge.svg\" alt=\"Open In Colab\"/></a>"
      ]
    },
    {
      "cell_type": "code",
      "execution_count": null,
      "metadata": {
        "id": "0ZYLR66I7tHr"
      },
      "outputs": [],
      "source": [
        "import pickle\n",
        "import numpy as np"
      ]
    },
    {
      "cell_type": "code",
      "source": [
        "with open(\"train_qa-220120-145526.txt\", \"rb\") as fp:   # Unpickling\n",
        "    train_data =  pickle.load(fp)"
      ],
      "metadata": {
        "id": "FEwx4HE_RFfr"
      },
      "execution_count": null,
      "outputs": []
    },
    {
      "cell_type": "code",
      "source": [
        "with open(\"test_qa-220120-145430.txt\", \"rb\") as fp:   # Unpickling\n",
        "    test_data =  pickle.load(fp)\n"
      ],
      "metadata": {
        "id": "d8bxJPT8S7-G"
      },
      "execution_count": null,
      "outputs": []
    },
    {
      "cell_type": "code",
      "source": [
        "type(test_data)\n"
      ],
      "metadata": {
        "colab": {
          "base_uri": "https://localhost:8080/"
        },
        "id": "BH2N4PXsTCW4",
        "outputId": "dc3d3817-fc70-40f6-ad05-83a8a61b09d1"
      },
      "execution_count": null,
      "outputs": [
        {
          "output_type": "execute_result",
          "data": {
            "text/plain": [
              "list"
            ]
          },
          "metadata": {},
          "execution_count": 11
        }
      ]
    },
    {
      "cell_type": "code",
      "source": [
        "type(train_data)\n"
      ],
      "metadata": {
        "colab": {
          "base_uri": "https://localhost:8080/"
        },
        "id": "HhQ2r-i5TKQ_",
        "outputId": "514fc28e-7e55-43f5-b455-47e85ffd02e8"
      },
      "execution_count": null,
      "outputs": [
        {
          "output_type": "execute_result",
          "data": {
            "text/plain": [
              "list"
            ]
          },
          "metadata": {},
          "execution_count": 12
        }
      ]
    },
    {
      "cell_type": "code",
      "source": [
        "len(test_data)\n"
      ],
      "metadata": {
        "colab": {
          "base_uri": "https://localhost:8080/"
        },
        "id": "vvK0g4tpTMNx",
        "outputId": "b28b8418-155f-4b2c-e8c7-75f8e3b84f11"
      },
      "execution_count": null,
      "outputs": [
        {
          "output_type": "execute_result",
          "data": {
            "text/plain": [
              "1000"
            ]
          },
          "metadata": {},
          "execution_count": 13
        }
      ]
    },
    {
      "cell_type": "code",
      "source": [
        "len(train_data)"
      ],
      "metadata": {
        "colab": {
          "base_uri": "https://localhost:8080/"
        },
        "id": "8bZ9niomTN9t",
        "outputId": "95afd142-9c0e-4d46-8030-9fd475f7be4e"
      },
      "execution_count": null,
      "outputs": [
        {
          "output_type": "execute_result",
          "data": {
            "text/plain": [
              "10000"
            ]
          },
          "metadata": {},
          "execution_count": 14
        }
      ]
    },
    {
      "cell_type": "code",
      "source": [
        "\n",
        "train_data[0]"
      ],
      "metadata": {
        "colab": {
          "base_uri": "https://localhost:8080/"
        },
        "id": "M55CZPIsTS1-",
        "outputId": "79accab1-15ef-4b80-dffd-a422d718c90b"
      },
      "execution_count": null,
      "outputs": [
        {
          "output_type": "execute_result",
          "data": {
            "text/plain": [
              "(['Mary',\n",
              "  'moved',\n",
              "  'to',\n",
              "  'the',\n",
              "  'bathroom',\n",
              "  '.',\n",
              "  'Sandra',\n",
              "  'journeyed',\n",
              "  'to',\n",
              "  'the',\n",
              "  'bedroom',\n",
              "  '.'],\n",
              " ['Is', 'Sandra', 'in', 'the', 'hallway', '?'],\n",
              " 'no')"
            ]
          },
          "metadata": {},
          "execution_count": 15
        }
      ]
    },
    {
      "cell_type": "code",
      "source": [
        "with open(\"train_qa-220120-145526.txt\", \"rb\") as fp:   # Unpickling\n",
        "    train_data =  pickle.load(fp)\n",
        "\n",
        "\n",
        "\n",
        "with open(\"test_qa-220120-145430.txt\", \"rb\") as fp:   # Unpickling\n",
        "    test_data =  pickle.load(fp)\n",
        "\n",
        "\n",
        "\n",
        "type(test_data)\n",
        "type(train_data)\n",
        "len(test_data)\n",
        "len(train_data)\n",
        "train_data[0]\n",
        "\n"
      ],
      "metadata": {
        "colab": {
          "base_uri": "https://localhost:8080/"
        },
        "id": "AIAsouc5VuYK",
        "outputId": "a2aa3883-5ebf-42c4-bdde-cc4dab7791aa"
      },
      "execution_count": null,
      "outputs": [
        {
          "output_type": "execute_result",
          "data": {
            "text/plain": [
              "(['Mary',\n",
              "  'moved',\n",
              "  'to',\n",
              "  'the',\n",
              "  'bathroom',\n",
              "  '.',\n",
              "  'Sandra',\n",
              "  'journeyed',\n",
              "  'to',\n",
              "  'the',\n",
              "  'bedroom',\n",
              "  '.'],\n",
              " ['Is', 'Sandra', 'in', 'the', 'hallway', '?'],\n",
              " 'no')"
            ]
          },
          "metadata": {},
          "execution_count": 16
        }
      ]
    },
    {
      "cell_type": "code",
      "source": [
        "' '.join(train_data[0][0])"
      ],
      "metadata": {
        "colab": {
          "base_uri": "https://localhost:8080/",
          "height": 35
        },
        "id": "YIrZbsvYV0Cq",
        "outputId": "52e84a41-8f63-4fde-f6c8-eb011b0f7927"
      },
      "execution_count": null,
      "outputs": [
        {
          "output_type": "execute_result",
          "data": {
            "text/plain": [
              "'Mary moved to the bathroom . Sandra journeyed to the bedroom .'"
            ],
            "application/vnd.google.colaboratory.intrinsic+json": {
              "type": "string"
            }
          },
          "metadata": {},
          "execution_count": 41
        }
      ]
    },
    {
      "cell_type": "code",
      "source": [
        "' '.join(train_data[0][1])"
      ],
      "metadata": {
        "colab": {
          "base_uri": "https://localhost:8080/",
          "height": 35
        },
        "id": "aX10Bs0hV4lG",
        "outputId": "1f589bc2-2432-4816-c74e-98f47a419d55"
      },
      "execution_count": null,
      "outputs": [
        {
          "output_type": "execute_result",
          "data": {
            "text/plain": [
              "'Is Sandra in the hallway ?'"
            ],
            "application/vnd.google.colaboratory.intrinsic+json": {
              "type": "string"
            }
          },
          "metadata": {},
          "execution_count": 42
        }
      ]
    },
    {
      "cell_type": "code",
      "source": [
        "train_data[0][2]"
      ],
      "metadata": {
        "colab": {
          "base_uri": "https://localhost:8080/",
          "height": 35
        },
        "id": "Ud4-WGHvV8XH",
        "outputId": "43054054-d178-454d-df81-215fcc2fa4ec"
      },
      "execution_count": null,
      "outputs": [
        {
          "output_type": "execute_result",
          "data": {
            "text/plain": [
              "'no'"
            ],
            "application/vnd.google.colaboratory.intrinsic+json": {
              "type": "string"
            }
          },
          "metadata": {},
          "execution_count": 43
        }
      ]
    },
    {
      "cell_type": "code",
      "source": [
        "vocab = set()"
      ],
      "metadata": {
        "id": "d2w_DoiJV_9_"
      },
      "execution_count": null,
      "outputs": []
    },
    {
      "cell_type": "code",
      "source": [
        "all_data = test_data + train_data"
      ],
      "metadata": {
        "id": "hp3Y1ae4WD25"
      },
      "execution_count": null,
      "outputs": []
    },
    {
      "cell_type": "code",
      "source": [
        "for story, question , answer in all_data:\n",
        "    \n",
        "    vocab = vocab.union(set(story))\n",
        "    vocab = vocab.union(set(question))"
      ],
      "metadata": {
        "id": "3U9muSd2WH0M"
      },
      "execution_count": null,
      "outputs": []
    },
    {
      "cell_type": "code",
      "source": [
        "vocab.add('no')"
      ],
      "metadata": {
        "id": "-HFpUvaFWMYn"
      },
      "execution_count": null,
      "outputs": []
    },
    {
      "cell_type": "code",
      "source": [
        "vocab.add('yes')"
      ],
      "metadata": {
        "id": "0iUNi-RMWQSh"
      },
      "execution_count": null,
      "outputs": []
    },
    {
      "cell_type": "code",
      "source": [
        "vocab"
      ],
      "metadata": {
        "colab": {
          "base_uri": "https://localhost:8080/"
        },
        "id": "mqqJ6BEBWTue",
        "outputId": "1b2667bb-1bab-4dfc-e9e5-1ef475eeb55a"
      },
      "execution_count": null,
      "outputs": [
        {
          "output_type": "execute_result",
          "data": {
            "text/plain": [
              "{'.',\n",
              " '?',\n",
              " 'Daniel',\n",
              " 'Is',\n",
              " 'John',\n",
              " 'Mary',\n",
              " 'Sandra',\n",
              " 'apple',\n",
              " 'back',\n",
              " 'bathroom',\n",
              " 'bedroom',\n",
              " 'discarded',\n",
              " 'down',\n",
              " 'dropped',\n",
              " 'football',\n",
              " 'garden',\n",
              " 'got',\n",
              " 'grabbed',\n",
              " 'hallway',\n",
              " 'in',\n",
              " 'journeyed',\n",
              " 'kitchen',\n",
              " 'left',\n",
              " 'milk',\n",
              " 'moved',\n",
              " 'no',\n",
              " 'office',\n",
              " 'picked',\n",
              " 'put',\n",
              " 'the',\n",
              " 'there',\n",
              " 'to',\n",
              " 'took',\n",
              " 'travelled',\n",
              " 'up',\n",
              " 'went',\n",
              " 'yes'}"
            ]
          },
          "metadata": {},
          "execution_count": 49
        }
      ]
    },
    {
      "cell_type": "code",
      "source": [
        "max_story_len = max([len(data[0]) for data in all_data])"
      ],
      "metadata": {
        "id": "sujWMGFaWW5w"
      },
      "execution_count": null,
      "outputs": []
    },
    {
      "cell_type": "code",
      "source": [
        "max_story_len"
      ],
      "metadata": {
        "colab": {
          "base_uri": "https://localhost:8080/"
        },
        "id": "I0KX34dbWst-",
        "outputId": "00a148ad-7fb7-4ed0-828f-bf239fb07560"
      },
      "execution_count": null,
      "outputs": [
        {
          "output_type": "execute_result",
          "data": {
            "text/plain": [
              "156"
            ]
          },
          "metadata": {},
          "execution_count": 51
        }
      ]
    },
    {
      "cell_type": "code",
      "source": [
        "max_question_len = max([len(data[1]) for data in all_data])"
      ],
      "metadata": {
        "id": "bp9EBwgVWv7H"
      },
      "execution_count": null,
      "outputs": []
    },
    {
      "cell_type": "code",
      "source": [
        "max_question_len"
      ],
      "metadata": {
        "colab": {
          "base_uri": "https://localhost:8080/"
        },
        "id": "CIiIaF65WzTa",
        "outputId": "1563e6de-60ff-4301-f5e3-0fe859b8a2e5"
      },
      "execution_count": null,
      "outputs": [
        {
          "output_type": "execute_result",
          "data": {
            "text/plain": [
              "6"
            ]
          },
          "metadata": {},
          "execution_count": 53
        }
      ]
    },
    {
      "cell_type": "code",
      "source": [
        "vocab"
      ],
      "metadata": {
        "colab": {
          "base_uri": "https://localhost:8080/"
        },
        "id": "Hw530VgtW21b",
        "outputId": "b874360f-b3cb-42b9-8c44-1c64aac15863"
      },
      "execution_count": null,
      "outputs": [
        {
          "output_type": "execute_result",
          "data": {
            "text/plain": [
              "{'.',\n",
              " '?',\n",
              " 'Daniel',\n",
              " 'Is',\n",
              " 'John',\n",
              " 'Mary',\n",
              " 'Sandra',\n",
              " 'apple',\n",
              " 'back',\n",
              " 'bathroom',\n",
              " 'bedroom',\n",
              " 'discarded',\n",
              " 'down',\n",
              " 'dropped',\n",
              " 'football',\n",
              " 'garden',\n",
              " 'got',\n",
              " 'grabbed',\n",
              " 'hallway',\n",
              " 'in',\n",
              " 'journeyed',\n",
              " 'kitchen',\n",
              " 'left',\n",
              " 'milk',\n",
              " 'moved',\n",
              " 'no',\n",
              " 'office',\n",
              " 'picked',\n",
              " 'put',\n",
              " 'the',\n",
              " 'there',\n",
              " 'to',\n",
              " 'took',\n",
              " 'travelled',\n",
              " 'up',\n",
              " 'went',\n",
              " 'yes'}"
            ]
          },
          "metadata": {},
          "execution_count": 54
        }
      ]
    },
    {
      "cell_type": "code",
      "source": [
        "vocab_size = len(vocab) + 1"
      ],
      "metadata": {
        "id": "FPoHl_cJW6DK"
      },
      "execution_count": null,
      "outputs": []
    },
    {
      "cell_type": "code",
      "source": [
        "import tensorflow as tf\n",
        "from tensorflow import keras"
      ],
      "metadata": {
        "id": "A2E1OjFVW96p"
      },
      "execution_count": null,
      "outputs": []
    },
    {
      "cell_type": "code",
      "source": [
        "from keras_preprocessing.sequence import pad_sequences\n",
        "from keras_preprocessing.text import Tokenizer"
      ],
      "metadata": {
        "id": "MoqpZy9FXBm6"
      },
      "execution_count": null,
      "outputs": []
    },
    {
      "cell_type": "code",
      "source": [
        "tokenizer = Tokenizer(filters=[])\n"
      ],
      "metadata": {
        "id": "Jew5KHjuXFBH"
      },
      "execution_count": null,
      "outputs": []
    },
    {
      "cell_type": "code",
      "source": [
        "tokenizer.fit_on_texts(vocab)"
      ],
      "metadata": {
        "id": "EkGXiYaTXJ__"
      },
      "execution_count": null,
      "outputs": []
    },
    {
      "cell_type": "code",
      "source": [
        "tokenizer.word_index"
      ],
      "metadata": {
        "colab": {
          "base_uri": "https://localhost:8080/"
        },
        "id": "pIvjnDNwXNJy",
        "outputId": "bf565410-70cb-4ebd-e029-e065bb59c714"
      },
      "execution_count": null,
      "outputs": [
        {
          "output_type": "execute_result",
          "data": {
            "text/plain": [
              "{'in': 1,\n",
              " 'to': 2,\n",
              " 'dropped': 3,\n",
              " 'got': 4,\n",
              " 'went': 5,\n",
              " 'milk': 6,\n",
              " 'daniel': 7,\n",
              " 'no': 8,\n",
              " 'garden': 9,\n",
              " 'john': 10,\n",
              " 'apple': 11,\n",
              " 'hallway': 12,\n",
              " 'there': 13,\n",
              " '.': 14,\n",
              " 'back': 15,\n",
              " 'bathroom': 16,\n",
              " 'down': 17,\n",
              " 'journeyed': 18,\n",
              " 'sandra': 19,\n",
              " 'is': 20,\n",
              " 'took': 21,\n",
              " 'bedroom': 22,\n",
              " 'office': 23,\n",
              " 'up': 24,\n",
              " '?': 25,\n",
              " 'mary': 26,\n",
              " 'football': 27,\n",
              " 'put': 28,\n",
              " 'yes': 29,\n",
              " 'grabbed': 30,\n",
              " 'discarded': 31,\n",
              " 'travelled': 32,\n",
              " 'picked': 33,\n",
              " 'left': 34,\n",
              " 'moved': 35,\n",
              " 'the': 36,\n",
              " 'kitchen': 37}"
            ]
          },
          "metadata": {},
          "execution_count": 60
        }
      ]
    },
    {
      "cell_type": "code",
      "source": [
        "train_story_text = []\n",
        "train_question_text = []\n",
        "train_answers = []\n",
        "\n",
        "for story,question,answer in train_data:\n",
        "    train_story_text.append(story)\n",
        "    train_question_text.append(question)"
      ],
      "metadata": {
        "id": "QqoO2Lr0XSCE"
      },
      "execution_count": null,
      "outputs": []
    },
    {
      "cell_type": "code",
      "source": [
        "train_story_seq = tokenizer.texts_to_sequences(train_story_text)"
      ],
      "metadata": {
        "id": "CQef-7zhXWo3"
      },
      "execution_count": null,
      "outputs": []
    },
    {
      "cell_type": "code",
      "source": [
        "len(train_story_text)"
      ],
      "metadata": {
        "colab": {
          "base_uri": "https://localhost:8080/"
        },
        "id": "POCo8NefXpjy",
        "outputId": "d4d5a347-baf6-4479-b647-ff29bd23fb1d"
      },
      "execution_count": null,
      "outputs": [
        {
          "output_type": "execute_result",
          "data": {
            "text/plain": [
              "10000"
            ]
          },
          "metadata": {},
          "execution_count": 64
        }
      ]
    },
    {
      "cell_type": "code",
      "source": [
        "len(train_story_seq)\n"
      ],
      "metadata": {
        "colab": {
          "base_uri": "https://localhost:8080/"
        },
        "id": "OcsoGTpSYnX3",
        "outputId": "9ff8bfbb-fad4-4dca-d56f-8f056bf7cf9b"
      },
      "execution_count": null,
      "outputs": [
        {
          "output_type": "execute_result",
          "data": {
            "text/plain": [
              "10000"
            ]
          },
          "metadata": {},
          "execution_count": 65
        }
      ]
    },
    {
      "cell_type": "code",
      "source": [
        "def vectorize_stories(data, word_index=tokenizer.word_index, max_story_len=max_story_len,max_question_len=max_question_len):\n",
        "    \n",
        "    X = []\n",
        "    # Xq = QUERY/QUESTION\n",
        "    Xq = []\n",
        "    # Y = CORRECT ANSWER\n",
        "    Y = []\n",
        "    \n",
        "    \n",
        "    for story, query, answer in data:\n",
        "        \n",
        "        \n",
        "        x = [word_index[word.lower()] for word in story]\n",
        "        \n",
        "        xq = [word_index[word.lower()] for word in query]\n",
        "        \n",
        "        y = np.zeros(len(word_index) + 1)\n",
        "        \n",
        "        \n",
        "        y[word_index[answer]] = 1\n",
        "        \n",
        "        X.append(x)\n",
        "        Xq.append(xq)\n",
        "        Y.append(y)\n",
        "    \n",
        "    return (pad_sequences(X, maxlen=max_story_len),pad_sequences(Xq, maxlen=max_question_len), np.array(Y))\n",
        "\n"
      ],
      "metadata": {
        "id": "bhQoRrJEXtfM"
      },
      "execution_count": null,
      "outputs": []
    },
    {
      "cell_type": "code",
      "source": [
        "inputs_train, queries_train, answers_train = vectorize_stories(train_data)"
      ],
      "metadata": {
        "id": "sx_z1CeHXxQo"
      },
      "execution_count": null,
      "outputs": []
    },
    {
      "cell_type": "code",
      "source": [
        "inputs_test, queries_test, answers_test = vectorize_stories(test_data)"
      ],
      "metadata": {
        "id": "cjYf-8CsX2HP"
      },
      "execution_count": null,
      "outputs": []
    },
    {
      "cell_type": "code",
      "source": [
        "inputs_test"
      ],
      "metadata": {
        "colab": {
          "base_uri": "https://localhost:8080/"
        },
        "id": "gX2m59vAYK02",
        "outputId": "703b597c-bdcc-4576-d91b-d15fa0a44524"
      },
      "execution_count": null,
      "outputs": [
        {
          "output_type": "execute_result",
          "data": {
            "text/plain": [
              "array([[ 0,  0,  0, ..., 36, 22, 14],\n",
              "       [ 0,  0,  0, ..., 36,  9, 14],\n",
              "       [ 0,  0,  0, ..., 36,  9, 14],\n",
              "       ...,\n",
              "       [ 0,  0,  0, ..., 36, 11, 14],\n",
              "       [ 0,  0,  0, ..., 36,  9, 14],\n",
              "       [ 0,  0,  0, ..., 11, 13, 14]], dtype=int32)"
            ]
          },
          "metadata": {},
          "execution_count": 70
        }
      ]
    },
    {
      "cell_type": "code",
      "source": [
        "queries_test"
      ],
      "metadata": {
        "colab": {
          "base_uri": "https://localhost:8080/"
        },
        "id": "J3ks45wyY8DT",
        "outputId": "e5b6a858-6a2f-4b10-e740-853439f8c454"
      },
      "execution_count": null,
      "outputs": [
        {
          "output_type": "execute_result",
          "data": {
            "text/plain": [
              "array([[20, 10,  1, 36, 37, 25],\n",
              "       [20, 10,  1, 36, 37, 25],\n",
              "       [20, 10,  1, 36,  9, 25],\n",
              "       ...,\n",
              "       [20, 26,  1, 36, 22, 25],\n",
              "       [20, 19,  1, 36,  9, 25],\n",
              "       [20, 26,  1, 36,  9, 25]], dtype=int32)"
            ]
          },
          "metadata": {},
          "execution_count": 71
        }
      ]
    },
    {
      "cell_type": "code",
      "source": [
        "answers_test"
      ],
      "metadata": {
        "colab": {
          "base_uri": "https://localhost:8080/"
        },
        "id": "jXrMX8NWY-8i",
        "outputId": "97fb516c-92c6-472b-a81f-93d5ea3c0ebd"
      },
      "execution_count": null,
      "outputs": [
        {
          "output_type": "execute_result",
          "data": {
            "text/plain": [
              "array([[0., 0., 0., ..., 0., 0., 0.],\n",
              "       [0., 0., 0., ..., 0., 0., 0.],\n",
              "       [0., 0., 0., ..., 0., 0., 0.],\n",
              "       ...,\n",
              "       [0., 0., 0., ..., 0., 0., 0.],\n",
              "       [0., 0., 0., ..., 0., 0., 0.],\n",
              "       [0., 0., 0., ..., 0., 0., 0.]])"
            ]
          },
          "metadata": {},
          "execution_count": 72
        }
      ]
    },
    {
      "cell_type": "code",
      "source": [
        "sum(answers_test)"
      ],
      "metadata": {
        "colab": {
          "base_uri": "https://localhost:8080/"
        },
        "id": "1k7WDXc5ZCDi",
        "outputId": "7f3c20d9-9583-4dfb-e0ff-041436d4ae12"
      },
      "execution_count": null,
      "outputs": [
        {
          "output_type": "execute_result",
          "data": {
            "text/plain": [
              "array([  0.,   0.,   0.,   0.,   0.,   0.,   0.,   0., 503.,   0.,   0.,\n",
              "         0.,   0.,   0.,   0.,   0.,   0.,   0.,   0.,   0.,   0.,   0.,\n",
              "         0.,   0.,   0.,   0.,   0.,   0.,   0., 497.,   0.,   0.,   0.,\n",
              "         0.,   0.,   0.,   0.,   0.])"
            ]
          },
          "metadata": {},
          "execution_count": 73
        }
      ]
    },
    {
      "cell_type": "code",
      "source": [
        "tokenizer.word_index['yes']"
      ],
      "metadata": {
        "colab": {
          "base_uri": "https://localhost:8080/"
        },
        "id": "XiABkyCUZEuc",
        "outputId": "c0a2988b-236d-41f6-eef0-facf967775fc"
      },
      "execution_count": null,
      "outputs": [
        {
          "output_type": "execute_result",
          "data": {
            "text/plain": [
              "29"
            ]
          },
          "metadata": {},
          "execution_count": 74
        }
      ]
    },
    {
      "cell_type": "code",
      "source": [
        "tokenizer.word_index['no']"
      ],
      "metadata": {
        "colab": {
          "base_uri": "https://localhost:8080/"
        },
        "id": "4ZIcCo3dZHgD",
        "outputId": "ab3760b5-816b-4f5c-fcc4-d074beee8640"
      },
      "execution_count": null,
      "outputs": [
        {
          "output_type": "execute_result",
          "data": {
            "text/plain": [
              "8"
            ]
          },
          "metadata": {},
          "execution_count": 75
        }
      ]
    },
    {
      "cell_type": "code",
      "source": [
        "from keras.models import Sequential, Model\n",
        "from keras.layers import Embedding\n",
        "from keras.layers import Input, Activation, Dense, Permute, Dropout\n",
        "from keras.layers import add, dot, concatenate\n",
        "from keras.layers import LSTM"
      ],
      "metadata": {
        "id": "0_GpYDhWZKef"
      },
      "execution_count": null,
      "outputs": []
    },
    {
      "cell_type": "code",
      "source": [
        "input_sequence = Input((max_story_len,))\n",
        "question = Input((max_question_len,))"
      ],
      "metadata": {
        "id": "U49F49rVZNFe"
      },
      "execution_count": null,
      "outputs": []
    },
    {
      "cell_type": "code",
      "source": [
        "input_encoder_m = Sequential()\n",
        "input_encoder_m.add(Embedding(input_dim=vocab_size,output_dim=64))\n",
        "input_encoder_m.add(Dropout(0.3))"
      ],
      "metadata": {
        "id": "nwrSIahVZQw_"
      },
      "execution_count": null,
      "outputs": []
    },
    {
      "cell_type": "code",
      "source": [
        "input_encoder_c = Sequential()\n",
        "input_encoder_c.add(Embedding(input_dim=vocab_size,output_dim=max_question_len))\n",
        "input_encoder_c.add(Dropout(0.3))"
      ],
      "metadata": {
        "id": "m-jVe239ZTCK"
      },
      "execution_count": null,
      "outputs": []
    },
    {
      "cell_type": "code",
      "source": [
        "question_encoder = Sequential()\n",
        "question_encoder.add(Embedding(input_dim=vocab_size,\n",
        "                               output_dim=64,\n",
        "                               input_length=max_question_len))\n",
        "question_encoder.add(Dropout(0.3))"
      ],
      "metadata": {
        "id": "WaDpZ02-ZVho"
      },
      "execution_count": null,
      "outputs": []
    },
    {
      "cell_type": "code",
      "source": [
        "input_encoded_m = input_encoder_m(input_sequence)\n",
        "input_encoded_c = input_encoder_c(input_sequence)\n",
        "question_encoded = question_encoder(question)"
      ],
      "metadata": {
        "id": "8eXZr4ZcZYvH"
      },
      "execution_count": null,
      "outputs": []
    },
    {
      "cell_type": "code",
      "source": [
        "match = dot([input_encoded_m, question_encoded], axes=(2, 2))\n",
        "match = Activation('softmax')(match)"
      ],
      "metadata": {
        "id": "nEFJmhF7ZbWs"
      },
      "execution_count": null,
      "outputs": []
    },
    {
      "cell_type": "code",
      "source": [
        "response = add([match, input_encoded_c])  # (samples, story_maxlen, query_maxlen)\n",
        "response = Permute((2, 1))(response)  # (samples, query_maxlen, story_maxlen)\n",
        "answer = concatenate([response, question_encoded])\n",
        "answer\n",
        "answer = LSTM(32)(answer)  # (samples, 32)\n",
        "answer = Dropout(0.5)(answer)\n",
        "answer = Dense(vocab_size)(answer)  # (samples, vocab_size)"
      ],
      "metadata": {
        "id": "iiyhfzQFZdgD"
      },
      "execution_count": null,
      "outputs": []
    },
    {
      "cell_type": "code",
      "source": [
        "answer = Activation('softmax')(answer)\n",
        "model = Model([input_sequence, question], answer)\n",
        "model.compile(optimizer='rmsprop', loss='categorical_crossentropy',\n",
        "              metrics=['accuracy'])"
      ],
      "metadata": {
        "id": "Djm-xKy1Zgn3"
      },
      "execution_count": null,
      "outputs": []
    },
    {
      "cell_type": "code",
      "source": [
        "model.summary()"
      ],
      "metadata": {
        "colab": {
          "base_uri": "https://localhost:8080/"
        },
        "id": "9QBpGinyZi9_",
        "outputId": "d0d85588-de63-40c4-f838-5fdb624f14f8"
      },
      "execution_count": null,
      "outputs": [
        {
          "output_type": "stream",
          "name": "stdout",
          "text": [
            "Model: \"model\"\n",
            "__________________________________________________________________________________________________\n",
            " Layer (type)                   Output Shape         Param #     Connected to                     \n",
            "==================================================================================================\n",
            " input_1 (InputLayer)           [(None, 156)]        0           []                               \n",
            "                                                                                                  \n",
            " input_2 (InputLayer)           [(None, 6)]          0           []                               \n",
            "                                                                                                  \n",
            " sequential (Sequential)        (None, None, 64)     2432        ['input_1[0][0]']                \n",
            "                                                                                                  \n",
            " sequential_3 (Sequential)      (None, 6, 64)        2432        ['input_2[0][0]']                \n",
            "                                                                                                  \n",
            " dot (Dot)                      (None, 156, 6)       0           ['sequential[0][0]',             \n",
            "                                                                  'sequential_3[0][0]']           \n",
            "                                                                                                  \n",
            " activation (Activation)        (None, 156, 6)       0           ['dot[0][0]']                    \n",
            "                                                                                                  \n",
            " sequential_1 (Sequential)      (None, None, 6)      228         ['input_1[0][0]']                \n",
            "                                                                                                  \n",
            " add (Add)                      (None, 156, 6)       0           ['activation[0][0]',             \n",
            "                                                                  'sequential_1[0][0]']           \n",
            "                                                                                                  \n",
            " permute (Permute)              (None, 6, 156)       0           ['add[0][0]']                    \n",
            "                                                                                                  \n",
            " concatenate (Concatenate)      (None, 6, 220)       0           ['permute[0][0]',                \n",
            "                                                                  'sequential_3[0][0]']           \n",
            "                                                                                                  \n",
            " lstm (LSTM)                    (None, 32)           32384       ['concatenate[0][0]']            \n",
            "                                                                                                  \n",
            " dropout_4 (Dropout)            (None, 32)           0           ['lstm[0][0]']                   \n",
            "                                                                                                  \n",
            " dense (Dense)                  (None, 38)           1254        ['dropout_4[0][0]']              \n",
            "                                                                                                  \n",
            " activation_1 (Activation)      (None, 38)           0           ['dense[0][0]']                  \n",
            "                                                                                                  \n",
            "==================================================================================================\n",
            "Total params: 38,730\n",
            "Trainable params: 38,730\n",
            "Non-trainable params: 0\n",
            "__________________________________________________________________________________________________\n"
          ]
        }
      ]
    },
    {
      "cell_type": "code",
      "source": [
        "history = model.fit([inputs_train, queries_train], answers_train,batch_size=32,epochs=120,validation_data=([inputs_test, queries_test], answers_test))\n",
        "\n"
      ],
      "metadata": {
        "colab": {
          "base_uri": "https://localhost:8080/"
        },
        "id": "Dgw0nKUMZlUE",
        "outputId": "da518062-edfb-46fb-f892-1909cdbbf831"
      },
      "execution_count": null,
      "outputs": [
        {
          "output_type": "stream",
          "name": "stdout",
          "text": [
            "Epoch 1/120\n",
            "313/313 [==============================] - 6s 12ms/step - loss: 0.9267 - accuracy: 0.4919 - val_loss: 0.6973 - val_accuracy: 0.5030\n",
            "Epoch 2/120\n",
            "313/313 [==============================] - 3s 10ms/step - loss: 0.7041 - accuracy: 0.5030 - val_loss: 0.6942 - val_accuracy: 0.4970\n",
            "Epoch 3/120\n",
            "313/313 [==============================] - 3s 10ms/step - loss: 0.6965 - accuracy: 0.5044 - val_loss: 0.6941 - val_accuracy: 0.4970\n",
            "Epoch 4/120\n",
            "313/313 [==============================] - 3s 10ms/step - loss: 0.6952 - accuracy: 0.5010 - val_loss: 0.6932 - val_accuracy: 0.5030\n",
            "Epoch 5/120\n",
            "313/313 [==============================] - 3s 10ms/step - loss: 0.6946 - accuracy: 0.5019 - val_loss: 0.6986 - val_accuracy: 0.4970\n",
            "Epoch 6/120\n",
            "313/313 [==============================] - 3s 10ms/step - loss: 0.6947 - accuracy: 0.5031 - val_loss: 0.6934 - val_accuracy: 0.4970\n",
            "Epoch 7/120\n",
            "313/313 [==============================] - 3s 10ms/step - loss: 0.6946 - accuracy: 0.5011 - val_loss: 0.6932 - val_accuracy: 0.5030\n",
            "Epoch 8/120\n",
            "313/313 [==============================] - 3s 10ms/step - loss: 0.6944 - accuracy: 0.5036 - val_loss: 0.6933 - val_accuracy: 0.5010\n",
            "Epoch 9/120\n",
            "313/313 [==============================] - 3s 10ms/step - loss: 0.6942 - accuracy: 0.4995 - val_loss: 0.6939 - val_accuracy: 0.5030\n",
            "Epoch 10/120\n",
            "313/313 [==============================] - 3s 10ms/step - loss: 0.6940 - accuracy: 0.5058 - val_loss: 0.6941 - val_accuracy: 0.4830\n",
            "Epoch 11/120\n",
            "313/313 [==============================] - 3s 11ms/step - loss: 0.6941 - accuracy: 0.5059 - val_loss: 0.6945 - val_accuracy: 0.4750\n",
            "Epoch 12/120\n",
            "313/313 [==============================] - 3s 10ms/step - loss: 0.6936 - accuracy: 0.5077 - val_loss: 0.6946 - val_accuracy: 0.4880\n",
            "Epoch 13/120\n",
            "313/313 [==============================] - 3s 10ms/step - loss: 0.6929 - accuracy: 0.5112 - val_loss: 0.6943 - val_accuracy: 0.4770\n",
            "Epoch 14/120\n",
            "313/313 [==============================] - 3s 10ms/step - loss: 0.6919 - accuracy: 0.5137 - val_loss: 0.6945 - val_accuracy: 0.5050\n",
            "Epoch 15/120\n",
            "313/313 [==============================] - 3s 10ms/step - loss: 0.6904 - accuracy: 0.5251 - val_loss: 0.6893 - val_accuracy: 0.5390\n",
            "Epoch 16/120\n",
            "313/313 [==============================] - 3s 11ms/step - loss: 0.6819 - accuracy: 0.5543 - val_loss: 0.6744 - val_accuracy: 0.5950\n",
            "Epoch 17/120\n",
            "313/313 [==============================] - 3s 10ms/step - loss: 0.6613 - accuracy: 0.6045 - val_loss: 0.6505 - val_accuracy: 0.6280\n",
            "Epoch 18/120\n",
            "313/313 [==============================] - 3s 10ms/step - loss: 0.6306 - accuracy: 0.6464 - val_loss: 0.6218 - val_accuracy: 0.6700\n",
            "Epoch 19/120\n",
            "313/313 [==============================] - 4s 11ms/step - loss: 0.6040 - accuracy: 0.6790 - val_loss: 0.6038 - val_accuracy: 0.7020\n",
            "Epoch 20/120\n",
            "313/313 [==============================] - 3s 10ms/step - loss: 0.5807 - accuracy: 0.7005 - val_loss: 0.5739 - val_accuracy: 0.7260\n",
            "Epoch 21/120\n",
            "313/313 [==============================] - 3s 10ms/step - loss: 0.5589 - accuracy: 0.7211 - val_loss: 0.5499 - val_accuracy: 0.7280\n",
            "Epoch 22/120\n",
            "313/313 [==============================] - 3s 10ms/step - loss: 0.5389 - accuracy: 0.7364 - val_loss: 0.5530 - val_accuracy: 0.7420\n",
            "Epoch 23/120\n",
            "313/313 [==============================] - 3s 11ms/step - loss: 0.5307 - accuracy: 0.7424 - val_loss: 0.5535 - val_accuracy: 0.7350\n",
            "Epoch 24/120\n",
            "313/313 [==============================] - 3s 11ms/step - loss: 0.5177 - accuracy: 0.7483 - val_loss: 0.5257 - val_accuracy: 0.7470\n",
            "Epoch 25/120\n",
            "313/313 [==============================] - 3s 10ms/step - loss: 0.5023 - accuracy: 0.7613 - val_loss: 0.4978 - val_accuracy: 0.7640\n",
            "Epoch 26/120\n",
            "313/313 [==============================] - 3s 10ms/step - loss: 0.4857 - accuracy: 0.7769 - val_loss: 0.4857 - val_accuracy: 0.7770\n",
            "Epoch 27/120\n",
            "313/313 [==============================] - 3s 10ms/step - loss: 0.4730 - accuracy: 0.7855 - val_loss: 0.4514 - val_accuracy: 0.8020\n",
            "Epoch 28/120\n",
            "313/313 [==============================] - 3s 11ms/step - loss: 0.4468 - accuracy: 0.8051 - val_loss: 0.4476 - val_accuracy: 0.8050\n",
            "Epoch 29/120\n",
            "313/313 [==============================] - 3s 10ms/step - loss: 0.4361 - accuracy: 0.8096 - val_loss: 0.4378 - val_accuracy: 0.8070\n",
            "Epoch 30/120\n",
            "313/313 [==============================] - 3s 10ms/step - loss: 0.4214 - accuracy: 0.8182 - val_loss: 0.4296 - val_accuracy: 0.8180\n",
            "Epoch 31/120\n",
            "313/313 [==============================] - 3s 10ms/step - loss: 0.4117 - accuracy: 0.8218 - val_loss: 0.4150 - val_accuracy: 0.8180\n",
            "Epoch 32/120\n",
            "313/313 [==============================] - 3s 10ms/step - loss: 0.4028 - accuracy: 0.8281 - val_loss: 0.4178 - val_accuracy: 0.8210\n",
            "Epoch 33/120\n",
            "313/313 [==============================] - 3s 10ms/step - loss: 0.3906 - accuracy: 0.8355 - val_loss: 0.4273 - val_accuracy: 0.8170\n",
            "Epoch 34/120\n",
            "313/313 [==============================] - 3s 10ms/step - loss: 0.3858 - accuracy: 0.8379 - val_loss: 0.3975 - val_accuracy: 0.8280\n",
            "Epoch 35/120\n",
            "313/313 [==============================] - 3s 11ms/step - loss: 0.3731 - accuracy: 0.8460 - val_loss: 0.4245 - val_accuracy: 0.8200\n",
            "Epoch 36/120\n",
            "313/313 [==============================] - 3s 10ms/step - loss: 0.3689 - accuracy: 0.8468 - val_loss: 0.3966 - val_accuracy: 0.8230\n",
            "Epoch 37/120\n",
            "313/313 [==============================] - 3s 11ms/step - loss: 0.3648 - accuracy: 0.8467 - val_loss: 0.3920 - val_accuracy: 0.8280\n",
            "Epoch 38/120\n",
            "313/313 [==============================] - 4s 14ms/step - loss: 0.3587 - accuracy: 0.8534 - val_loss: 0.4011 - val_accuracy: 0.8260\n",
            "Epoch 39/120\n",
            "313/313 [==============================] - 3s 10ms/step - loss: 0.3455 - accuracy: 0.8549 - val_loss: 0.3840 - val_accuracy: 0.8230\n",
            "Epoch 40/120\n",
            "313/313 [==============================] - 3s 10ms/step - loss: 0.3485 - accuracy: 0.8524 - val_loss: 0.3806 - val_accuracy: 0.8400\n",
            "Epoch 41/120\n",
            "313/313 [==============================] - 3s 10ms/step - loss: 0.3465 - accuracy: 0.8511 - val_loss: 0.3739 - val_accuracy: 0.8350\n",
            "Epoch 42/120\n",
            "313/313 [==============================] - 3s 10ms/step - loss: 0.3393 - accuracy: 0.8556 - val_loss: 0.4025 - val_accuracy: 0.8240\n",
            "Epoch 43/120\n",
            "313/313 [==============================] - 3s 10ms/step - loss: 0.3366 - accuracy: 0.8586 - val_loss: 0.3847 - val_accuracy: 0.8320\n",
            "Epoch 44/120\n",
            "313/313 [==============================] - 3s 10ms/step - loss: 0.3286 - accuracy: 0.8600 - val_loss: 0.3751 - val_accuracy: 0.8280\n",
            "Epoch 45/120\n",
            "313/313 [==============================] - 3s 10ms/step - loss: 0.3307 - accuracy: 0.8590 - val_loss: 0.3940 - val_accuracy: 0.8270\n",
            "Epoch 46/120\n",
            "313/313 [==============================] - 3s 10ms/step - loss: 0.3279 - accuracy: 0.8630 - val_loss: 0.4019 - val_accuracy: 0.8300\n",
            "Epoch 47/120\n",
            "313/313 [==============================] - 3s 11ms/step - loss: 0.3251 - accuracy: 0.8634 - val_loss: 0.3748 - val_accuracy: 0.8340\n",
            "Epoch 48/120\n",
            "313/313 [==============================] - 3s 10ms/step - loss: 0.3188 - accuracy: 0.8635 - val_loss: 0.3847 - val_accuracy: 0.8330\n",
            "Epoch 49/120\n",
            "313/313 [==============================] - 3s 10ms/step - loss: 0.3170 - accuracy: 0.8639 - val_loss: 0.3880 - val_accuracy: 0.8310\n",
            "Epoch 50/120\n",
            "313/313 [==============================] - 3s 11ms/step - loss: 0.3137 - accuracy: 0.8675 - val_loss: 0.3777 - val_accuracy: 0.8340\n",
            "Epoch 51/120\n",
            "313/313 [==============================] - 3s 11ms/step - loss: 0.3158 - accuracy: 0.8667 - val_loss: 0.3704 - val_accuracy: 0.8320\n",
            "Epoch 52/120\n",
            "313/313 [==============================] - 3s 11ms/step - loss: 0.3056 - accuracy: 0.8697 - val_loss: 0.3778 - val_accuracy: 0.8330\n",
            "Epoch 53/120\n",
            "313/313 [==============================] - 3s 10ms/step - loss: 0.3021 - accuracy: 0.8707 - val_loss: 0.3916 - val_accuracy: 0.8360\n",
            "Epoch 54/120\n",
            "313/313 [==============================] - 3s 10ms/step - loss: 0.3009 - accuracy: 0.8714 - val_loss: 0.3959 - val_accuracy: 0.8360\n",
            "Epoch 55/120\n",
            "313/313 [==============================] - 3s 10ms/step - loss: 0.3008 - accuracy: 0.8717 - val_loss: 0.4022 - val_accuracy: 0.8210\n",
            "Epoch 56/120\n",
            "313/313 [==============================] - 3s 10ms/step - loss: 0.3034 - accuracy: 0.8764 - val_loss: 0.3956 - val_accuracy: 0.8360\n",
            "Epoch 57/120\n",
            "313/313 [==============================] - 3s 11ms/step - loss: 0.3058 - accuracy: 0.8688 - val_loss: 0.3852 - val_accuracy: 0.8340\n",
            "Epoch 58/120\n",
            "313/313 [==============================] - 3s 11ms/step - loss: 0.2977 - accuracy: 0.8726 - val_loss: 0.3970 - val_accuracy: 0.8310\n",
            "Epoch 59/120\n",
            "313/313 [==============================] - 3s 11ms/step - loss: 0.2966 - accuracy: 0.8754 - val_loss: 0.3934 - val_accuracy: 0.8400\n",
            "Epoch 60/120\n",
            "313/313 [==============================] - 3s 11ms/step - loss: 0.2954 - accuracy: 0.8766 - val_loss: 0.3900 - val_accuracy: 0.8330\n",
            "Epoch 61/120\n",
            "313/313 [==============================] - 3s 11ms/step - loss: 0.2903 - accuracy: 0.8774 - val_loss: 0.3940 - val_accuracy: 0.8240\n",
            "Epoch 62/120\n",
            "313/313 [==============================] - 3s 11ms/step - loss: 0.2939 - accuracy: 0.8775 - val_loss: 0.3912 - val_accuracy: 0.8370\n",
            "Epoch 63/120\n",
            "313/313 [==============================] - 3s 10ms/step - loss: 0.2893 - accuracy: 0.8789 - val_loss: 0.4061 - val_accuracy: 0.8320\n",
            "Epoch 64/120\n",
            "313/313 [==============================] - 3s 10ms/step - loss: 0.2825 - accuracy: 0.8822 - val_loss: 0.4250 - val_accuracy: 0.8280\n",
            "Epoch 65/120\n",
            "313/313 [==============================] - 3s 10ms/step - loss: 0.2818 - accuracy: 0.8812 - val_loss: 0.4165 - val_accuracy: 0.8390\n",
            "Epoch 66/120\n",
            "313/313 [==============================] - 3s 10ms/step - loss: 0.2765 - accuracy: 0.8845 - val_loss: 0.4222 - val_accuracy: 0.8360\n",
            "Epoch 67/120\n",
            "313/313 [==============================] - 3s 10ms/step - loss: 0.2798 - accuracy: 0.8810 - val_loss: 0.4225 - val_accuracy: 0.8370\n",
            "Epoch 68/120\n",
            "313/313 [==============================] - 3s 11ms/step - loss: 0.2804 - accuracy: 0.8820 - val_loss: 0.4103 - val_accuracy: 0.8390\n",
            "Epoch 69/120\n",
            "313/313 [==============================] - 3s 11ms/step - loss: 0.2719 - accuracy: 0.8853 - val_loss: 0.4437 - val_accuracy: 0.8370\n",
            "Epoch 70/120\n",
            "313/313 [==============================] - 3s 10ms/step - loss: 0.2772 - accuracy: 0.8844 - val_loss: 0.4340 - val_accuracy: 0.8310\n",
            "Epoch 71/120\n",
            "313/313 [==============================] - 3s 11ms/step - loss: 0.2669 - accuracy: 0.8867 - val_loss: 0.4188 - val_accuracy: 0.8370\n",
            "Epoch 72/120\n",
            "313/313 [==============================] - 3s 11ms/step - loss: 0.2688 - accuracy: 0.8829 - val_loss: 0.4501 - val_accuracy: 0.8390\n",
            "Epoch 73/120\n",
            "313/313 [==============================] - 3s 11ms/step - loss: 0.2685 - accuracy: 0.8849 - val_loss: 0.4616 - val_accuracy: 0.8200\n",
            "Epoch 74/120\n",
            "313/313 [==============================] - 3s 10ms/step - loss: 0.2591 - accuracy: 0.8876 - val_loss: 0.4657 - val_accuracy: 0.8330\n",
            "Epoch 75/120\n",
            "313/313 [==============================] - 3s 10ms/step - loss: 0.2668 - accuracy: 0.8878 - val_loss: 0.4715 - val_accuracy: 0.8170\n",
            "Epoch 76/120\n",
            "313/313 [==============================] - 3s 10ms/step - loss: 0.2646 - accuracy: 0.8865 - val_loss: 0.4518 - val_accuracy: 0.8350\n",
            "Epoch 77/120\n",
            "313/313 [==============================] - 3s 11ms/step - loss: 0.2543 - accuracy: 0.8921 - val_loss: 0.4726 - val_accuracy: 0.8240\n",
            "Epoch 78/120\n",
            "313/313 [==============================] - 3s 11ms/step - loss: 0.2651 - accuracy: 0.8896 - val_loss: 0.4705 - val_accuracy: 0.8190\n",
            "Epoch 79/120\n",
            "313/313 [==============================] - 3s 10ms/step - loss: 0.2573 - accuracy: 0.8909 - val_loss: 0.4502 - val_accuracy: 0.8280\n",
            "Epoch 80/120\n",
            "313/313 [==============================] - 3s 10ms/step - loss: 0.2514 - accuracy: 0.8959 - val_loss: 0.4614 - val_accuracy: 0.8340\n",
            "Epoch 81/120\n",
            "313/313 [==============================] - 3s 10ms/step - loss: 0.2505 - accuracy: 0.8983 - val_loss: 0.4625 - val_accuracy: 0.8100\n",
            "Epoch 82/120\n",
            "313/313 [==============================] - 3s 10ms/step - loss: 0.2537 - accuracy: 0.8953 - val_loss: 0.4880 - val_accuracy: 0.8310\n",
            "Epoch 83/120\n",
            "313/313 [==============================] - 3s 11ms/step - loss: 0.2500 - accuracy: 0.8955 - val_loss: 0.4799 - val_accuracy: 0.8290\n",
            "Epoch 84/120\n",
            "313/313 [==============================] - 3s 10ms/step - loss: 0.2492 - accuracy: 0.8958 - val_loss: 0.4731 - val_accuracy: 0.8230\n",
            "Epoch 85/120\n",
            "313/313 [==============================] - 3s 10ms/step - loss: 0.2414 - accuracy: 0.8974 - val_loss: 0.4472 - val_accuracy: 0.8340\n",
            "Epoch 86/120\n",
            "313/313 [==============================] - 3s 11ms/step - loss: 0.2377 - accuracy: 0.9005 - val_loss: 0.4911 - val_accuracy: 0.8160\n",
            "Epoch 87/120\n",
            "313/313 [==============================] - 3s 10ms/step - loss: 0.2466 - accuracy: 0.8985 - val_loss: 0.4713 - val_accuracy: 0.8200\n",
            "Epoch 88/120\n",
            "313/313 [==============================] - 3s 11ms/step - loss: 0.2416 - accuracy: 0.9021 - val_loss: 0.5197 - val_accuracy: 0.8180\n",
            "Epoch 89/120\n",
            "313/313 [==============================] - 3s 10ms/step - loss: 0.2397 - accuracy: 0.9002 - val_loss: 0.5261 - val_accuracy: 0.8090\n",
            "Epoch 90/120\n",
            "313/313 [==============================] - 3s 11ms/step - loss: 0.2346 - accuracy: 0.9017 - val_loss: 0.4816 - val_accuracy: 0.8210\n",
            "Epoch 91/120\n",
            "313/313 [==============================] - 3s 11ms/step - loss: 0.2365 - accuracy: 0.8978 - val_loss: 0.4904 - val_accuracy: 0.8220\n",
            "Epoch 92/120\n",
            "313/313 [==============================] - 3s 11ms/step - loss: 0.2295 - accuracy: 0.9029 - val_loss: 0.5155 - val_accuracy: 0.8180\n",
            "Epoch 93/120\n",
            "313/313 [==============================] - 3s 11ms/step - loss: 0.2348 - accuracy: 0.9000 - val_loss: 0.5380 - val_accuracy: 0.8110\n",
            "Epoch 94/120\n",
            "313/313 [==============================] - 3s 11ms/step - loss: 0.2289 - accuracy: 0.9010 - val_loss: 0.5317 - val_accuracy: 0.8270\n",
            "Epoch 95/120\n",
            "313/313 [==============================] - 3s 11ms/step - loss: 0.2318 - accuracy: 0.9027 - val_loss: 0.5310 - val_accuracy: 0.8210\n",
            "Epoch 96/120\n",
            "313/313 [==============================] - 3s 10ms/step - loss: 0.2276 - accuracy: 0.9087 - val_loss: 0.5128 - val_accuracy: 0.8230\n",
            "Epoch 97/120\n",
            "313/313 [==============================] - 3s 10ms/step - loss: 0.2247 - accuracy: 0.9051 - val_loss: 0.4860 - val_accuracy: 0.8230\n",
            "Epoch 98/120\n",
            "313/313 [==============================] - 3s 11ms/step - loss: 0.2214 - accuracy: 0.9072 - val_loss: 0.5347 - val_accuracy: 0.8110\n",
            "Epoch 99/120\n",
            "313/313 [==============================] - 3s 11ms/step - loss: 0.2278 - accuracy: 0.9059 - val_loss: 0.5377 - val_accuracy: 0.8120\n",
            "Epoch 100/120\n",
            "313/313 [==============================] - 3s 11ms/step - loss: 0.2236 - accuracy: 0.9077 - val_loss: 0.5031 - val_accuracy: 0.8180\n",
            "Epoch 101/120\n",
            "313/313 [==============================] - 4s 11ms/step - loss: 0.2283 - accuracy: 0.9043 - val_loss: 0.5318 - val_accuracy: 0.8170\n",
            "Epoch 102/120\n",
            "313/313 [==============================] - 4s 13ms/step - loss: 0.2213 - accuracy: 0.9064 - val_loss: 0.5062 - val_accuracy: 0.8220\n",
            "Epoch 103/120\n",
            "313/313 [==============================] - 3s 11ms/step - loss: 0.2175 - accuracy: 0.9109 - val_loss: 0.5674 - val_accuracy: 0.8070\n",
            "Epoch 104/120\n",
            "313/313 [==============================] - 3s 11ms/step - loss: 0.2188 - accuracy: 0.9079 - val_loss: 0.5061 - val_accuracy: 0.8250\n",
            "Epoch 105/120\n",
            "313/313 [==============================] - 3s 11ms/step - loss: 0.2112 - accuracy: 0.9095 - val_loss: 0.5563 - val_accuracy: 0.8200\n",
            "Epoch 106/120\n",
            "313/313 [==============================] - 3s 11ms/step - loss: 0.2234 - accuracy: 0.9083 - val_loss: 0.5295 - val_accuracy: 0.8130\n",
            "Epoch 107/120\n",
            "313/313 [==============================] - 3s 11ms/step - loss: 0.2194 - accuracy: 0.9096 - val_loss: 0.5409 - val_accuracy: 0.8140\n",
            "Epoch 108/120\n",
            "313/313 [==============================] - 3s 11ms/step - loss: 0.2088 - accuracy: 0.9106 - val_loss: 0.5898 - val_accuracy: 0.8140\n",
            "Epoch 109/120\n",
            "313/313 [==============================] - 3s 10ms/step - loss: 0.2162 - accuracy: 0.9101 - val_loss: 0.5757 - val_accuracy: 0.8160\n",
            "Epoch 110/120\n",
            "313/313 [==============================] - 3s 11ms/step - loss: 0.2083 - accuracy: 0.9136 - val_loss: 0.5819 - val_accuracy: 0.8160\n",
            "Epoch 111/120\n",
            "313/313 [==============================] - 3s 11ms/step - loss: 0.2170 - accuracy: 0.9129 - val_loss: 0.5489 - val_accuracy: 0.8140\n",
            "Epoch 112/120\n",
            "313/313 [==============================] - 3s 10ms/step - loss: 0.2088 - accuracy: 0.9144 - val_loss: 0.6000 - val_accuracy: 0.8140\n",
            "Epoch 113/120\n",
            "313/313 [==============================] - 3s 11ms/step - loss: 0.2143 - accuracy: 0.9148 - val_loss: 0.5400 - val_accuracy: 0.8150\n",
            "Epoch 114/120\n",
            "313/313 [==============================] - 3s 11ms/step - loss: 0.2089 - accuracy: 0.9140 - val_loss: 0.5826 - val_accuracy: 0.8170\n",
            "Epoch 115/120\n",
            "313/313 [==============================] - 3s 10ms/step - loss: 0.2034 - accuracy: 0.9173 - val_loss: 0.6119 - val_accuracy: 0.8220\n",
            "Epoch 116/120\n",
            "313/313 [==============================] - 3s 11ms/step - loss: 0.2054 - accuracy: 0.9148 - val_loss: 0.6037 - val_accuracy: 0.8140\n",
            "Epoch 117/120\n",
            "313/313 [==============================] - 3s 11ms/step - loss: 0.2086 - accuracy: 0.9113 - val_loss: 0.5975 - val_accuracy: 0.8180\n",
            "Epoch 118/120\n",
            "313/313 [==============================] - 3s 11ms/step - loss: 0.2071 - accuracy: 0.9149 - val_loss: 0.6056 - val_accuracy: 0.8200\n",
            "Epoch 119/120\n",
            "313/313 [==============================] - 3s 10ms/step - loss: 0.2028 - accuracy: 0.9174 - val_loss: 0.5813 - val_accuracy: 0.8140\n",
            "Epoch 120/120\n",
            "313/313 [==============================] - 3s 10ms/step - loss: 0.2028 - accuracy: 0.9175 - val_loss: 0.6381 - val_accuracy: 0.8100\n"
          ]
        }
      ]
    },
    {
      "cell_type": "code",
      "source": [
        "import matplotlib.pyplot as plt\n",
        "get_ipython().run_line_magic('matplotlib', 'inline')\n",
        "print(history.history.keys())\n",
        "# summarize history for accuracy\n",
        "plt.plot(history.history['accuracy'])\n",
        "plt.plot(history.history['val_accuracy'])\n",
        "plt.title('Model Accuracy')\n",
        "plt.ylabel('Accuracy')\n",
        "plt.xlabel('Epoch')\n",
        "plt.legend(['train', 'test'], loc='upper left')\n",
        "plt.show()"
      ],
      "metadata": {
        "colab": {
          "base_uri": "https://localhost:8080/",
          "height": 312
        },
        "id": "jfihYr2VZrcs",
        "outputId": "1056cfd2-b1ff-426d-db9b-fbe3b6f878eb"
      },
      "execution_count": null,
      "outputs": [
        {
          "output_type": "stream",
          "name": "stdout",
          "text": [
            "dict_keys(['loss', 'accuracy', 'val_loss', 'val_accuracy'])\n"
          ]
        },
        {
          "output_type": "display_data",
          "data": {
            "text/plain": [
              "<Figure size 432x288 with 1 Axes>"
            ],
            "image/png": "[encoded data removed]"
          },
          "metadata": {
            "needs_background": "light"
          }
        }
      ]
    },
    {
      "cell_type": "code",
      "source": [
        "model.save(\"chatbot-model\")"
      ],
      "metadata": {
        "colab": {
          "base_uri": "https://localhost:8080/"
        },
        "id": "1TE8bAgWKsgl",
        "outputId": "6f604a78-3c84-449b-cedd-ec060657b38b"
      },
      "execution_count": null,
      "outputs": [
        {
          "output_type": "stream",
          "name": "stderr",
          "text": [
            "WARNING:absl:Found untraced functions such as lstm_cell_layer_call_fn, lstm_cell_layer_call_and_return_conditional_losses while saving (showing 2 of 2). These functions will not be directly callable after loading.\n"
          ]
        }
      ]
    },
    {
      "cell_type": "code",
      "source": [
        "model.load_weights(\"/content/chatbot-model\")\n",
        "pred_results = model.predict(([inputs_test, queries_test]))"
      ],
      "metadata": {
        "colab": {
          "base_uri": "https://localhost:8080/"
        },
        "id": "luCZzA73ZvHs",
        "outputId": "4a56ad31-3d65-4d0b-b24f-debcb4616ea1"
      },
      "execution_count": null,
      "outputs": [
        {
          "output_type": "stream",
          "name": "stdout",
          "text": [
            "32/32 [==============================] - 0s 2ms/step\n"
          ]
        }
      ]
    },
    {
      "cell_type": "markdown",
      "source": [
        "Evalution of test data"
      ],
      "metadata": {
        "id": "QnayVgl2KgO9"
      }
    },
    {
      "cell_type": "code",
      "source": [
        "test_data[0][0]"
      ],
      "metadata": {
        "colab": {
          "base_uri": "https://localhost:8080/"
        },
        "id": "rrvsi96DZxBN",
        "outputId": "d244d3a1-6511-4629-b2e3-67f5dddadb17"
      },
      "execution_count": null,
      "outputs": [
        {
          "output_type": "execute_result",
          "data": {
            "text/plain": [
              "['Mary',\n",
              " 'got',\n",
              " 'the',\n",
              " 'milk',\n",
              " 'there',\n",
              " '.',\n",
              " 'John',\n",
              " 'moved',\n",
              " 'to',\n",
              " 'the',\n",
              " 'bedroom',\n",
              " '.']"
            ]
          },
          "metadata": {},
          "execution_count": 390
        }
      ]
    },
    {
      "cell_type": "code",
      "source": [
        "story =' '.join(word for word in test_data[0][0])"
      ],
      "metadata": {
        "id": "WA1JE2jCZy4E"
      },
      "execution_count": null,
      "outputs": []
    },
    {
      "cell_type": "code",
      "source": [
        "story"
      ],
      "metadata": {
        "colab": {
          "base_uri": "https://localhost:8080/",
          "height": 35
        },
        "id": "mV5ZXYm8LWKa",
        "outputId": "1eb682e1-70cb-49d4-cdae-d6c8a98cf136"
      },
      "execution_count": null,
      "outputs": [
        {
          "output_type": "execute_result",
          "data": {
            "text/plain": [
              "'Mary got the milk there . John moved to the bedroom .'"
            ],
            "application/vnd.google.colaboratory.intrinsic+json": {
              "type": "string"
            }
          },
          "metadata": {},
          "execution_count": 487
        }
      ]
    },
    {
      "cell_type": "code",
      "source": [
        "query = ' '.join(word for word in test_data[0][1])"
      ],
      "metadata": {
        "id": "Hwu-ayG6Z0sz"
      },
      "execution_count": null,
      "outputs": []
    },
    {
      "cell_type": "code",
      "source": [
        "query"
      ],
      "metadata": {
        "colab": {
          "base_uri": "https://localhost:8080/",
          "height": 35
        },
        "id": "CO_GRIuVLzDG",
        "outputId": "9fe2252a-3f1b-4ee7-90a8-0fa2fa3a5a9f"
      },
      "execution_count": null,
      "outputs": [
        {
          "output_type": "execute_result",
          "data": {
            "text/plain": [
              "'Is John in the kitchen ?'"
            ],
            "application/vnd.google.colaboratory.intrinsic+json": {
              "type": "string"
            }
          },
          "metadata": {},
          "execution_count": 489
        }
      ]
    },
    {
      "cell_type": "code",
      "source": [
        "test_data[0][2]"
      ],
      "metadata": {
        "colab": {
          "base_uri": "https://localhost:8080/",
          "height": 35
        },
        "id": "LYQ2RymKLiBh",
        "outputId": "413c5983-7170-4596-c015-d1ac538b1d56"
      },
      "execution_count": null,
      "outputs": [
        {
          "output_type": "execute_result",
          "data": {
            "text/plain": [
              "'no'"
            ],
            "application/vnd.google.colaboratory.intrinsic+json": {
              "type": "string"
            }
          },
          "metadata": {},
          "execution_count": 490
        }
      ]
    },
    {
      "cell_type": "code",
      "source": [
        "print(\"True Test Answer from Data is:\",test_data[0][2])"
      ],
      "metadata": {
        "colab": {
          "base_uri": "https://localhost:8080/"
        },
        "id": "ccBTRETAZ6DF",
        "outputId": "b2cf8c96-5735-430c-e1c7-0cb55131415e"
      },
      "execution_count": null,
      "outputs": [
        {
          "output_type": "stream",
          "name": "stdout",
          "text": [
            "True Test Answer from Data is: no\n"
          ]
        }
      ]
    },
    {
      "cell_type": "code",
      "source": [
        "val_max = np.argmax(pred_results[0])\n",
        "\n",
        "for key, val in tokenizer.word_index.items():\n",
        "    if val == val_max:\n",
        "        k = key\n"
      ],
      "metadata": {
        "id": "llNgpFRSZ7_3"
      },
      "execution_count": null,
      "outputs": []
    },
    {
      "cell_type": "code",
      "source": [
        "print(\"Predicted answer is: \", k)\n"
      ],
      "metadata": {
        "colab": {
          "base_uri": "https://localhost:8080/"
        },
        "id": "n4MDobVQZ_vM",
        "outputId": "d120d6c0-204b-4611-bec6-249621b2a29b"
      },
      "execution_count": null,
      "outputs": [
        {
          "output_type": "stream",
          "name": "stdout",
          "text": [
            "Predicted answer is:  yes\n"
          ]
        }
      ]
    },
    {
      "cell_type": "code",
      "source": [
        "print(\"Probability of certainty was: \", pred_results[0][val_max])\n"
      ],
      "metadata": {
        "colab": {
          "base_uri": "https://localhost:8080/"
        },
        "id": "WqXQ2JPkaCsF",
        "outputId": "ad1c5f8c-4c0b-4396-896b-68388313dfb9"
      },
      "execution_count": null,
      "outputs": [
        {
          "output_type": "stream",
          "name": "stdout",
          "text": [
            "Probability of certainty was:  0.9906193\n"
          ]
        }
      ]
    },
    {
      "cell_type": "code",
      "source": [
        "vocab"
      ],
      "metadata": {
        "colab": {
          "base_uri": "https://localhost:8080/"
        },
        "id": "7vtUjJIeaESJ",
        "outputId": "1f0d6712-51e9-4152-d5c0-754c1a13598f"
      },
      "execution_count": null,
      "outputs": [
        {
          "output_type": "execute_result",
          "data": {
            "text/plain": [
              "{'.',\n",
              " '?',\n",
              " 'Daniel',\n",
              " 'Is',\n",
              " 'John',\n",
              " 'Mary',\n",
              " 'Sandra',\n",
              " 'apple',\n",
              " 'back',\n",
              " 'bathroom',\n",
              " 'bedroom',\n",
              " 'discarded',\n",
              " 'down',\n",
              " 'dropped',\n",
              " 'football',\n",
              " 'garden',\n",
              " 'got',\n",
              " 'grabbed',\n",
              " 'hallway',\n",
              " 'in',\n",
              " 'journeyed',\n",
              " 'kitchen',\n",
              " 'left',\n",
              " 'milk',\n",
              " 'moved',\n",
              " 'no',\n",
              " 'office',\n",
              " 'picked',\n",
              " 'put',\n",
              " 'the',\n",
              " 'there',\n",
              " 'to',\n",
              " 'took',\n",
              " 'travelled',\n",
              " 'up',\n",
              " 'went',\n",
              " 'yes'}"
            ]
          },
          "metadata": {},
          "execution_count": 496
        }
      ]
    },
    {
      "cell_type": "code",
      "source": [
        "my_story = \"John left the kitchen . Sandra went to the garden . Daniel is in the office . \"\n",
        "my_story.split()\n"
      ],
      "metadata": {
        "colab": {
          "base_uri": "https://localhost:8080/"
        },
        "id": "j7_6ylyGaGgY",
        "outputId": "2fc7c18b-9422-44df-d294-c19fe4485218"
      },
      "execution_count": null,
      "outputs": [
        {
          "output_type": "execute_result",
          "data": {
            "text/plain": [
              "['John',\n",
              " 'left',\n",
              " 'the',\n",
              " 'kitchen',\n",
              " '.',\n",
              " 'Sandra',\n",
              " 'went',\n",
              " 'to',\n",
              " 'the',\n",
              " 'garden',\n",
              " '.',\n",
              " 'Daniel',\n",
              " 'is',\n",
              " 'in',\n",
              " 'the',\n",
              " 'office',\n",
              " '.']"
            ]
          },
          "metadata": {},
          "execution_count": 471
        }
      ]
    },
    {
      "cell_type": "code",
      "source": [
        "my_question = \"Is Daniel in the office ? \"\n",
        "my_question.split()\n"
      ],
      "metadata": {
        "colab": {
          "base_uri": "https://localhost:8080/"
        },
        "id": "tUXqrJEVaIQX",
        "outputId": "b5a109d7-9be4-4716-9ced-f236fddfbf82"
      },
      "execution_count": null,
      "outputs": [
        {
          "output_type": "execute_result",
          "data": {
            "text/plain": [
              "['Is', 'Daniel', 'in', 'the', 'office', '?']"
            ]
          },
          "metadata": {},
          "execution_count": 472
        }
      ]
    },
    {
      "cell_type": "code",
      "source": [
        "mydata = [(my_story.split(),my_question.split(),'yes')]\n",
        "\n",
        "\n"
      ],
      "metadata": {
        "id": "VbxZroszaKOx"
      },
      "execution_count": null,
      "outputs": []
    },
    {
      "cell_type": "code",
      "source": [
        "my_story,my_question,my_ans = vectorize_stories(mydata)\n",
        "\n"
      ],
      "metadata": {
        "id": "T2xmnpXcaLyA"
      },
      "execution_count": null,
      "outputs": []
    },
    {
      "cell_type": "code",
      "source": [
        "\n",
        "pred_results = model.predict(([ my_story, my_question]))"
      ],
      "metadata": {
        "colab": {
          "base_uri": "https://localhost:8080/"
        },
        "id": "SUxrcuDNaMzb",
        "outputId": "6abb7dbe-0f1b-4284-afb7-737d07c6d6ad"
      },
      "execution_count": null,
      "outputs": [
        {
          "output_type": "stream",
          "name": "stdout",
          "text": [
            "1/1 [==============================] - 0s 13ms/step\n"
          ]
        }
      ]
    },
    {
      "cell_type": "code",
      "source": [
        "val_max = np.argmax(pred_results[0])\n",
        "\n",
        "for key, val in tokenizer.word_index.items():\n",
        "  if val == val_max:\n",
        "    k == key\n",
        "\n",
        "print(\"Predicted answer is: \", k)\n",
        "print(\"Probability of certainty was: \", pred_results[0][val_max])"
      ],
      "metadata": {
        "id": "gZ-sBd65aOMH",
        "colab": {
          "base_uri": "https://localhost:8080/"
        },
        "outputId": "f7df7a45-6137-41df-db8e-e8c620c5a2b3"
      },
      "execution_count": null,
      "outputs": [
        {
          "output_type": "stream",
          "name": "stdout",
          "text": [
            "Predicted answer is:  yes\n",
            "Probability of certainty was:  0.9906193\n"
          ]
        }
      ]
    },
    {
      "cell_type": "code",
      "source": [],
      "metadata": {
        "id": "fhRaT-3YXZ8g"
      },
      "execution_count": null,
      "outputs": []
    }
  ]
}